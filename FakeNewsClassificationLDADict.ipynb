{
 "cells": [
  {
   "cell_type": "code",
   "execution_count": 1,
   "metadata": {},
   "outputs": [],
   "source": [
    "import pandas as pd\n",
    "import numpy as np\n",
    "import os,sys\n",
    "import json"
   ]
  },
  {
   "cell_type": "code",
   "execution_count": 2,
   "metadata": {},
   "outputs": [
    {
     "data": {
      "text/plain": [
       "'/Users/Administrator'"
      ]
     },
     "execution_count": 2,
     "metadata": {},
     "output_type": "execute_result"
    }
   ],
   "source": [
    "pwd"
   ]
  },
  {
   "cell_type": "code",
   "execution_count": 3,
   "metadata": {},
   "outputs": [
    {
     "name": "stdout",
     "output_type": "stream",
     "text": [
      "/Users/Administrator/Downloads/FakeNewsWSDM\n"
     ]
    }
   ],
   "source": [
    "cd Downloads/FakeNewsWSDM/"
   ]
  },
  {
   "cell_type": "code",
   "execution_count": 3,
   "metadata": {},
   "outputs": [],
   "source": [
    "train_df = pd.read_csv('/Users/Administrator/Downloads/FakeNewsWSDM/train.csv') "
   ]
  },
  {
   "cell_type": "code",
   "execution_count": 5,
   "metadata": {},
   "outputs": [],
   "source": [
    "test_df = pd.read_csv('/Users/Administrator/Downloads/FakeNewsWSDM/test.csv') "
   ]
  },
  {
   "cell_type": "code",
   "execution_count": 7,
   "metadata": {},
   "outputs": [],
   "source": [
    "### Topic Modeling\n",
    "data_train = train_df['title1_en']"
   ]
  },
  {
   "cell_type": "code",
   "execution_count": 8,
   "metadata": {},
   "outputs": [
    {
     "data": {
      "text/plain": [
       "pandas.core.series.Series"
      ]
     },
     "execution_count": 8,
     "metadata": {},
     "output_type": "execute_result"
    }
   ],
   "source": [
    "type(data_train)"
   ]
  },
  {
   "cell_type": "code",
   "execution_count": 9,
   "metadata": {},
   "outputs": [
    {
     "name": "stdout",
     "output_type": "stream",
     "text": [
      "[nltk_data] Downloading package wordnet to\n",
      "[nltk_data]     /Users/Administrator/nltk_data...\n",
      "[nltk_data]   Package wordnet is already up-to-date!\n"
     ]
    },
    {
     "data": {
      "text/plain": [
       "True"
      ]
     },
     "execution_count": 9,
     "metadata": {},
     "output_type": "execute_result"
    }
   ],
   "source": [
    "import gensim\n",
    "from gensim.utils import simple_preprocess\n",
    "from gensim.parsing.preprocessing import STOPWORDS\n",
    "from nltk.stem import WordNetLemmatizer, SnowballStemmer\n",
    "from nltk.stem.porter import *\n",
    "import numpy as np\n",
    "np.random.seed(2018)\n",
    "import nltk\n",
    "nltk.download('wordnet')"
   ]
  },
  {
   "cell_type": "code",
   "execution_count": 11,
   "metadata": {},
   "outputs": [],
   "source": [
    "def lemmatize_stemming(text):\n",
    "    return stemmer.stem(WordNetLemmatizer().lemmatize(text, pos='v'))\n",
    "def preprocess(text):\n",
    "    result = []\n",
    "    for token in gensim.utils.simple_preprocess(text):\n",
    "        if token not in gensim.parsing.preprocessing.STOPWORDS and len(token) > 3:\n",
    "            result.append(lemmatize_stemming(token))\n",
    "    return result"
   ]
  },
  {
   "cell_type": "code",
   "execution_count": 12,
   "metadata": {},
   "outputs": [
    {
     "name": "stderr",
     "output_type": "stream",
     "text": [
      "/Users/Administrator/anaconda3/lib/python3.6/site-packages/ipykernel_launcher.py:2: SettingWithCopyWarning: \n",
      "A value is trying to be set on a copy of a slice from a DataFrame.\n",
      "Try using .loc[row_indexer,col_indexer] = value instead\n",
      "\n",
      "See the caveats in the documentation: http://pandas.pydata.org/pandas-docs/stable/indexing.html#indexing-view-versus-copy\n",
      "  \n"
     ]
    }
   ],
   "source": [
    "data_text = train_df[['title1_en']]\n",
    "data_text['index'] = train_df.index\n",
    "documents = data_text"
   ]
  },
  {
   "cell_type": "code",
   "execution_count": 13,
   "metadata": {},
   "outputs": [
    {
     "data": {
      "text/plain": [
       "'\"If you do not come to Shenzhen, sooner or later your son will also come.\" In less than 10 years, Shenzhen per capita GDP will exceed Hong Kong.'"
      ]
     },
     "execution_count": 13,
     "metadata": {},
     "output_type": "execute_result"
    }
   ],
   "source": [
    "documents['title1_en'][1]"
   ]
  },
  {
   "cell_type": "code",
   "execution_count": 14,
   "metadata": {
    "collapsed": true
   },
   "outputs": [
    {
     "name": "stdout",
     "output_type": "stream",
     "text": [
      "original document: \n",
      "['New', 'land', 'regulations', 'in', '2017:', 'land', 'existence', 'these', 'problems,', 'do', 'not', 'allow', 'right!']\n",
      "\n",
      "\n",
      " tokenized and lemmatized document: \n",
      "['land', 'regul', 'land', 'exist', 'problem', 'allow', 'right']\n"
     ]
    }
   ],
   "source": [
    "doc_sample = documents[documents['index'] == 4310].values[0][0]\n",
    "print('original document: ')\n",
    "words = []\n",
    "stemmer = SnowballStemmer(\"english\")\n",
    "#stemmer = PorterStemmer()\n",
    "for word in doc_sample.split(' '):\n",
    "    words.append(word)\n",
    "print(words)\n",
    "print('\\n\\n tokenized and lemmatized document: ')\n",
    "print(preprocess(doc_sample))"
   ]
  },
  {
   "cell_type": "code",
   "execution_count": 38,
   "metadata": {},
   "outputs": [],
   "source": [
    "SnowballStemmer?"
   ]
  },
  {
   "cell_type": "code",
   "execution_count": 15,
   "metadata": {
    "collapsed": true
   },
   "outputs": [
    {
     "name": "stdout",
     "output_type": "stream",
     "text": [
      "original document: \n",
      "['New', 'land', 'regulations', 'in', '2017:', 'land', 'existence', 'these', 'problems,', 'do', 'not', 'allow', 'right!']\n",
      "\n",
      "\n",
      " tokenized and lemmatized document: \n",
      "['land', 'regul', 'land', 'exist', 'problem', 'allow', 'right']\n"
     ]
    }
   ],
   "source": [
    "doc_sample = documents[documents['index'] == 4310].values[0][0]\n",
    "print('original document: ')\n",
    "words = []\n",
    "#stemmer = SnowballStemmer(\"english\")\n",
    "stemmer = PorterStemmer()\n",
    "for word in doc_sample.split(' '):\n",
    "    words.append(word)\n",
    "print(words)\n",
    "print('\\n\\n tokenized and lemmatized document: ')\n",
    "print(preprocess(doc_sample))"
   ]
  },
  {
   "cell_type": "code",
   "execution_count": 16,
   "metadata": {},
   "outputs": [
    {
     "data": {
      "text/plain": [
       "0                 [insur, benefit, peopl, rural, area]\n",
       "1    [come, shenzhen, sooner, later, come, year, sh...\n",
       "2    [come, shenzhen, sooner, later, come, year, sh...\n",
       "3    [come, shenzhen, sooner, later, come, year, sh...\n",
       "4                    [discrimin, gutter, mean, garlic]\n",
       "5    [come, shenzhen, sooner, later, come, year, sh...\n",
       "6                              [durian, kill, wrongli]\n",
       "7    [come, shenzhen, sooner, later, come, year, sh...\n",
       "8              [frog, frog, fertil, test, play, jewel]\n",
       "9                    [discrimin, gutter, mean, garlic]\n",
       "Name: title1_en, dtype: object"
      ]
     },
     "execution_count": 16,
     "metadata": {},
     "output_type": "execute_result"
    }
   ],
   "source": [
    "processed_docs = documents['title1_en'].map(preprocess)\n",
    "processed_docs[:10]"
   ]
  },
  {
   "cell_type": "code",
   "execution_count": 46,
   "metadata": {},
   "outputs": [
    {
     "name": "stdout",
     "output_type": "stream",
     "text": [
      "0 area\n",
      "1 benefit\n",
      "2 insur\n",
      "3 peopl\n",
      "4 rural\n",
      "5 capita\n",
      "6 come\n",
      "7 exceed\n",
      "8 hong\n",
      "9 kong\n",
      "10 later\n"
     ]
    }
   ],
   "source": [
    "dictionary = gensim.corpora.Dictionary(processed_docs)\n",
    "count = 0\n",
    "for k, v in dictionary.iteritems():\n",
    "    print(k, v)\n",
    "    count += 1\n",
    "    if count > 10:\n",
    "        break"
   ]
  },
  {
   "cell_type": "code",
   "execution_count": 47,
   "metadata": {},
   "outputs": [],
   "source": [
    "dictionary.filter_extremes(no_below=15, no_above=0.5, keep_n=100000)"
   ]
  },
  {
   "cell_type": "code",
   "execution_count": 48,
   "metadata": {},
   "outputs": [
    {
     "data": {
      "text/plain": [
       "[(98, 2), (430, 1), (469, 1), (645, 1), (803, 1), (1081, 1)]"
      ]
     },
     "execution_count": 48,
     "metadata": {},
     "output_type": "execute_result"
    }
   ],
   "source": [
    "bow_corpus = [dictionary.doc2bow(doc) for doc in processed_docs]\n",
    "bow_corpus[4310]"
   ]
  },
  {
   "cell_type": "code",
   "execution_count": 49,
   "metadata": {},
   "outputs": [
    {
     "name": "stdout",
     "output_type": "stream",
     "text": [
      "Word 98 (\"land\") appears 2 time.\n",
      "Word 430 (\"right\") appears 1 time.\n",
      "Word 469 (\"problem\") appears 1 time.\n",
      "Word 645 (\"regul\") appears 1 time.\n",
      "Word 803 (\"allow\") appears 1 time.\n",
      "Word 1081 (\"exist\") appears 1 time.\n"
     ]
    }
   ],
   "source": [
    "bow_doc_4310 = bow_corpus[4310]\n",
    "for i in range(len(bow_doc_4310)):\n",
    "    print(\"Word {} (\\\"{}\\\") appears {} time.\".format(bow_doc_4310[i][0], \n",
    "                                               dictionary[bow_doc_4310[i][0]], \n",
    "bow_doc_4310[i][1]))"
   ]
  },
  {
   "cell_type": "code",
   "execution_count": 54,
   "metadata": {},
   "outputs": [
    {
     "data": {
      "text/plain": [
       "int"
      ]
     },
     "execution_count": 54,
     "metadata": {},
     "output_type": "execute_result"
    }
   ],
   "source": [
    "type(bow_doc_4310[1][1])"
   ]
  },
  {
   "cell_type": "code",
   "execution_count": 50,
   "metadata": {},
   "outputs": [
    {
     "name": "stdout",
     "output_type": "stream",
     "text": [
      "[(0, 0.45779195967566366),\n",
      " (1, 0.5367435202939657),\n",
      " (2, 0.5398544361034678),\n",
      " (3, 0.28723030208986516),\n",
      " (4, 0.35831390771156)]\n"
     ]
    }
   ],
   "source": [
    "from gensim import corpora, models\n",
    "tfidf = models.TfidfModel(bow_corpus)\n",
    "corpus_tfidf = tfidf[bow_corpus]\n",
    "from pprint import pprint\n",
    "for doc in corpus_tfidf:\n",
    "    pprint(doc)\n",
    "    break"
   ]
  },
  {
   "cell_type": "code",
   "execution_count": 69,
   "metadata": {},
   "outputs": [],
   "source": [
    "lda_model = gensim.models.LdaMulticore(bow_corpus, num_topics=10, id2word=dictionary, passes=2, workers=2, dtype=np.float64)"
   ]
  },
  {
   "cell_type": "code",
   "execution_count": 70,
   "metadata": {},
   "outputs": [
    {
     "name": "stdout",
     "output_type": "stream",
     "text": [
      "Topic: 0 \n",
      "Words: 0.029*\"polic\" + 0.024*\"whiten\" + 0.017*\"suspect\" + 0.017*\"network\" + 0.017*\"pregnant\" + 0.015*\"anti\" + 0.015*\"women\" + 0.014*\"babi\" + 0.014*\"pregnanc\" + 0.013*\"birth\"\n",
      "Topic: 1 \n",
      "Words: 0.053*\"weight\" + 0.051*\"lose\" + 0.026*\"drink\" + 0.022*\"teach\" + 0.022*\"loss\" + 0.021*\"belli\" + 0.020*\"chines\" + 0.018*\"quickli\" + 0.016*\"water\" + 0.013*\"appl\"\n",
      "Topic: 2 \n",
      "Words: 0.024*\"phone\" + 0.023*\"turn\" + 0.023*\"expos\" + 0.019*\"beauti\" + 0.019*\"time\" + 0.017*\"love\" + 0.017*\"plastic\" + 0.012*\"zhao\" + 0.012*\"break\" + 0.011*\"exposur\"\n",
      "Topic: 3 \n",
      "Words: 0.045*\"wang\" + 0.028*\"netizen\" + 0.026*\"divorc\" + 0.020*\"wife\" + 0.019*\"true\" + 0.016*\"wed\" + 0.013*\"husband\" + 0.012*\"song\" + 0.012*\"marriag\" + 0.011*\"marri\"\n",
      "Topic: 4 \n",
      "Words: 0.033*\"cancer\" + 0.022*\"peopl\" + 0.022*\"blood\" + 0.019*\"poison\" + 0.019*\"eat\" + 0.018*\"food\" + 0.016*\"daughter\" + 0.015*\"diabet\" + 0.014*\"caus\" + 0.013*\"life\"\n",
      "Topic: 5 \n",
      "Words: 0.034*\"bingb\" + 0.028*\"chen\" + 0.021*\"year\" + 0.020*\"marri\" + 0.018*\"circl\" + 0.018*\"woman\" + 0.016*\"entertain\" + 0.013*\"friend\" + 0.012*\"bing\" + 0.011*\"get\"\n",
      "Topic: 6 \n",
      "Words: 0.060*\"rumor\" + 0.027*\"tencent\" + 0.017*\"viru\" + 0.015*\"test\" + 0.015*\"person\" + 0.014*\"fight\" + 0.012*\"game\" + 0.011*\"infect\" + 0.011*\"lead\" + 0.010*\"properti\"\n",
      "Topic: 7 \n",
      "Words: 0.050*\"day\" + 0.047*\"white\" + 0.044*\"hair\" + 0.023*\"black\" + 0.021*\"effect\" + 0.021*\"waist\" + 0.020*\"yang\" + 0.018*\"face\" + 0.018*\"skin\" + 0.016*\"good\"\n",
      "Topic: 8 \n",
      "Words: 0.029*\"million\" + 0.027*\"year\" + 0.025*\"yuan\" + 0.019*\"state\" + 0.019*\"unit\" + 0.018*\"rumour\" + 0.017*\"hous\" + 0.015*\"dollar\" + 0.013*\"money\" + 0.012*\"peopl\"\n",
      "Topic: 9 \n",
      "Words: 0.025*\"video\" + 0.022*\"spread\" + 0.019*\"kill\" + 0.016*\"trick\" + 0.015*\"alien\" + 0.014*\"driver\" + 0.014*\"drive\" + 0.013*\"american\" + 0.012*\"netizen\" + 0.012*\"point\"\n"
     ]
    }
   ],
   "source": [
    "for idx, topic in lda_model.print_topics(-1):\n",
    "    print('Topic: {} \\nWords: {}'.format(idx, topic))"
   ]
  },
  {
   "cell_type": "code",
   "execution_count": 71,
   "metadata": {},
   "outputs": [
    {
     "name": "stdout",
     "output_type": "stream",
     "text": [
      "Topic: 0 Word: 0.023*\"blood\" + 0.022*\"cancer\" + 0.016*\"eat\" + 0.015*\"diabet\" + 0.015*\"food\" + 0.013*\"sugar\" + 0.011*\"infect\" + 0.010*\"viru\" + 0.010*\"kind\" + 0.010*\"drink\"\n",
      "Topic: 1 Word: 0.022*\"bingb\" + 0.014*\"chen\" + 0.013*\"wang\" + 0.010*\"marri\" + 0.010*\"pregnant\" + 0.008*\"netizen\" + 0.008*\"divorc\" + 0.007*\"daughter\" + 0.007*\"year\" + 0.006*\"zhang\"\n",
      "Topic: 2 Word: 0.015*\"rumour\" + 0.010*\"cream\" + 0.010*\"moth\" + 0.010*\"worth\" + 0.010*\"dollar\" + 0.010*\"pharmaci\" + 0.009*\"store\" + 0.008*\"million\" + 0.008*\"coin\" + 0.007*\"collect\"\n",
      "Topic: 3 Word: 0.034*\"hair\" + 0.024*\"white\" + 0.017*\"black\" + 0.015*\"poison\" + 0.015*\"skin\" + 0.012*\"day\" + 0.011*\"whiten\" + 0.010*\"face\" + 0.010*\"wash\" + 0.009*\"mushroom\"\n",
      "Topic: 4 Word: 0.013*\"yang\" + 0.011*\"wang\" + 0.009*\"love\" + 0.008*\"bingb\" + 0.007*\"netizen\" + 0.007*\"glori\" + 0.006*\"year\" + 0.006*\"chen\" + 0.006*\"say\" + 0.006*\"zhang\"\n",
      "Topic: 5 Word: 0.011*\"farmer\" + 0.010*\"subsidi\" + 0.009*\"rural\" + 0.009*\"year\" + 0.008*\"salari\" + 0.008*\"hous\" + 0.007*\"drive\" + 0.007*\"driver\" + 0.007*\"licens\" + 0.007*\"monthli\"\n",
      "Topic: 6 Word: 0.034*\"weight\" + 0.029*\"lose\" + 0.015*\"drink\" + 0.015*\"belli\" + 0.014*\"day\" + 0.013*\"loss\" + 0.009*\"lotu\" + 0.009*\"stomach\" + 0.009*\"pound\" + 0.008*\"constip\"\n",
      "Topic: 7 Word: 0.026*\"rumor\" + 0.016*\"spread\" + 0.014*\"appl\" + 0.009*\"airplan\" + 0.009*\"polic\" + 0.009*\"mosquito\" + 0.008*\"shrimp\" + 0.008*\"steal\" + 0.008*\"counti\" + 0.007*\"network\"\n",
      "Topic: 8 Word: 0.028*\"eggplant\" + 0.009*\"peopl\" + 0.008*\"pesticid\" + 0.008*\"residu\" + 0.008*\"brother\" + 0.008*\"glue\" + 0.007*\"breast\" + 0.006*\"cheap\" + 0.006*\"knee\" + 0.006*\"formaldehyd\"\n",
      "Topic: 9 Word: 0.017*\"phone\" + 0.017*\"bing\" + 0.014*\"strawberri\" + 0.008*\"micro\" + 0.007*\"cell\" + 0.007*\"chat\" + 0.007*\"record\" + 0.006*\"mobil\" + 0.006*\"suicid\" + 0.006*\"delet\"\n"
     ]
    }
   ],
   "source": [
    "lda_model_tfidf = gensim.models.LdaMulticore(corpus_tfidf, num_topics=10, id2word=dictionary, passes=2, workers=4, dtype=np.float64)\n",
    "for idx, topic in lda_model_tfidf.print_topics(-1):\n",
    "    print('Topic: {} Word: {}'.format(idx, topic))"
   ]
  },
  {
   "cell_type": "code",
   "execution_count": 62,
   "metadata": {},
   "outputs": [],
   "source": [
    "gensim.models.LdaMulticore?"
   ]
  },
  {
   "cell_type": "code",
   "execution_count": null,
   "metadata": {},
   "outputs": [],
   "source": []
  }
 ],
 "metadata": {
  "kernelspec": {
   "display_name": "Python 3",
   "language": "python",
   "name": "python3"
  },
  "language_info": {
   "codemirror_mode": {
    "name": "ipython",
    "version": 3
   },
   "file_extension": ".py",
   "mimetype": "text/x-python",
   "name": "python",
   "nbconvert_exporter": "python",
   "pygments_lexer": "ipython3",
   "version": "3.6.4"
  }
 },
 "nbformat": 4,
 "nbformat_minor": 2
}
