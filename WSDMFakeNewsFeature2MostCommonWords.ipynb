{
 "cells": [
  {
   "cell_type": "code",
   "execution_count": 2,
   "metadata": {},
   "outputs": [],
   "source": [
    "import pandas as pd\n",
    "import numpy as np\n",
    "import os,sys\n",
    "import json\n",
    "import matplotlib.pyplot as plt"
   ]
  },
  {
   "cell_type": "code",
   "execution_count": 3,
   "metadata": {},
   "outputs": [],
   "source": [
    "train_df = pd.read_csv('/Users/Administrator/Downloads/FakeNewsWSDM/train.csv')\n",
    "test_df = pd.read_csv('/Users/Administrator/Downloads/FakeNewsWSDM/test.csv') "
   ]
  },
  {
   "cell_type": "code",
   "execution_count": 5,
   "metadata": {},
   "outputs": [],
   "source": [
    "j=0\n",
    "for i in range(len(train_df)):\n",
    "    if train_df['label'][i] == 'disagreed':\n",
    "        j = j+1\n",
    "        \n",
    "        "
   ]
  },
  {
   "cell_type": "code",
   "execution_count": 6,
   "metadata": {},
   "outputs": [],
   "source": [
    "dis_text_list_t1 = ['']*j"
   ]
  },
  {
   "cell_type": "code",
   "execution_count": 7,
   "metadata": {},
   "outputs": [],
   "source": [
    "dis_text_list_t2 = ['']*j"
   ]
  },
  {
   "cell_type": "code",
   "execution_count": 8,
   "metadata": {},
   "outputs": [],
   "source": [
    "j=0\n",
    "for i in range(len(train_df)):\n",
    "    if train_df['label'][i] == 'disagreed':\n",
    "        dis_text_list_t1[j] = train_df['title1_en'][i]\n",
    "        dis_text_list_t2[j] = train_df['title2_en'][i]\n",
    "        j = j+1\n",
    "        "
   ]
  },
  {
   "cell_type": "code",
   "execution_count": 17,
   "metadata": {},
   "outputs": [
    {
     "data": {
      "text/plain": [
       "str"
      ]
     },
     "execution_count": 17,
     "metadata": {},
     "output_type": "execute_result"
    }
   ],
   "source": [
    "type(dis_text_list_t1[0])"
   ]
  },
  {
   "cell_type": "code",
   "execution_count": 25,
   "metadata": {},
   "outputs": [
    {
     "data": {
      "text/plain": [
       "list"
      ]
     },
     "execution_count": 25,
     "metadata": {},
     "output_type": "execute_result"
    }
   ],
   "source": [
    "type(processed_docs_t1[0])"
   ]
  },
  {
   "cell_type": "code",
   "execution_count": 18,
   "metadata": {},
   "outputs": [],
   "source": [
    "dis_text_list_t1_series = pd.Series( (v for v in dis_text_list_t1) )\n",
    "processed_docs_t1 = dis_text_list_t1_series.map(preprocess)"
   ]
  },
  {
   "cell_type": "code",
   "execution_count": 21,
   "metadata": {},
   "outputs": [],
   "source": [
    "dis_text_list_t2_series = pd.Series( (v for v in dis_text_list_t2) )\n",
    "processed_docs_t2 = dis_text_list_t2_series.map(preprocess)"
   ]
  },
  {
   "cell_type": "code",
   "execution_count": 26,
   "metadata": {},
   "outputs": [],
   "source": [
    "for i in range(0, len(processed_docs_t1)):\n",
    "    processed_docs_t1[i] = ' '.join(processed_docs_t1[i])"
   ]
  },
  {
   "cell_type": "code",
   "execution_count": 28,
   "metadata": {},
   "outputs": [],
   "source": [
    "for i in range(0, len(processed_docs_t2)):\n",
    "    processed_docs_t2[i] = ' '.join(processed_docs_t2[i])"
   ]
  },
  {
   "cell_type": "code",
   "execution_count": 12,
   "metadata": {},
   "outputs": [
    {
     "name": "stdout",
     "output_type": "stream",
     "text": [
      "[nltk_data] Downloading package wordnet to\n",
      "[nltk_data]     /Users/Administrator/nltk_data...\n",
      "[nltk_data]   Package wordnet is already up-to-date!\n"
     ]
    }
   ],
   "source": [
    "import gensim\n",
    "from gensim.utils import simple_preprocess\n",
    "from gensim.parsing.preprocessing import STOPWORDS\n",
    "from nltk.stem import WordNetLemmatizer, SnowballStemmer\n",
    "from nltk.stem.porter import *\n",
    "import numpy as np\n",
    "np.random.seed(2018)\n",
    "import nltk\n",
    "nltk.download('wordnet')\n",
    "\n",
    "stemmer = SnowballStemmer('english')\n",
    "\n",
    "def lemmatize_stemming(text):\n",
    "    return stemmer.stem(WordNetLemmatizer().lemmatize(text, pos='v'))\n",
    "def preprocess(text):\n",
    "    result = []\n",
    "    for token in gensim.utils.simple_preprocess(text):\n",
    "        if token not in gensim.parsing.preprocessing.STOPWORDS and len(token) > 3:\n",
    "            result.append(lemmatize_stemming(token))\n",
    "    return result\n"
   ]
  },
  {
   "cell_type": "code",
   "execution_count": 37,
   "metadata": {},
   "outputs": [
    {
     "data": {
      "text/plain": [
       "list"
      ]
     },
     "execution_count": 37,
     "metadata": {},
     "output_type": "execute_result"
    }
   ],
   "source": [
    "type(word_counter.most_common(2))"
   ]
  },
  {
   "cell_type": "code",
   "execution_count": 34,
   "metadata": {
    "collapsed": true
   },
   "outputs": [
    {
     "name": "stdout",
     "output_type": "stream",
     "text": [
      "How many most common words to print: 100\n",
      "\n",
      "OK. The 100 most common words are as follows\n",
      "\n",
      "year :  1035\n",
      "drink :  617\n",
      "drive :  514\n",
      "wang :  377\n",
      "daughter :  375\n",
      "peopl :  361\n",
      "tianyi :  339\n",
      "get :  323\n",
      "netizen :  301\n",
      "zhang :  297\n",
      "child :  294\n",
      "time :  277\n",
      "cancer :  275\n",
      "children :  259\n",
      "parent :  242\n",
      "take :  220\n",
      "card :  218\n",
      "friend :  218\n",
      "releas :  216\n",
      "driver :  216\n",
      "coffe :  207\n",
      "caus :  202\n",
      "drug :  198\n",
      "break :  195\n",
      "plastic :  194\n",
      "huateng :  190\n",
      "student :  188\n",
      "nation :  185\n",
      "boom :  185\n",
      "sicong :  185\n",
      "chang :  183\n",
      "love :  182\n",
      "ahead :  182\n",
      "starbuck :  175\n",
      "famili :  173\n",
      "lose :  172\n",
      "face :  167\n",
      "test :  166\n",
      "properti :  165\n",
      "say :  164\n",
      "hand :  164\n",
      "eat :  162\n",
      "regul :  161\n",
      "person :  160\n",
      "citi :  158\n",
      "like :  158\n",
      "divorc :  158\n",
      "room :  156\n",
      "polic :  152\n",
      "school :  152\n",
      "public :  152\n",
      "white :  152\n",
      "food :  150\n",
      "girl :  147\n",
      "million :  146\n",
      "kill :  146\n",
      "yang :  145\n",
      "licens :  143\n",
      "poison :  141\n",
      "hous :  140\n",
      "marriag :  139\n",
      "hold :  138\n",
      "expos :  137\n",
      "live :  137\n",
      "rule :  134\n",
      "phone :  131\n",
      "pregnant :  130\n",
      "respons :  130\n",
      "yuan :  129\n",
      "april :  126\n",
      "airport :  126\n",
      "femal :  125\n",
      "victim :  125\n",
      "super :  124\n",
      "true :  124\n",
      "coupl :  122\n",
      "univers :  122\n",
      "china :  122\n",
      "earli :  122\n",
      "marri :  119\n",
      "fast :  119\n",
      "carcinogen :  117\n",
      "suspect :  116\n",
      "examin :  115\n",
      "frog :  115\n",
      "express :  115\n",
      "steal :  114\n",
      "certif :  114\n",
      "huawei :  114\n",
      "late :  113\n",
      "traffic :  112\n",
      "cheung :  112\n",
      "attent :  111\n",
      "chines :  109\n",
      "look :  108\n",
      "come :  107\n",
      "rumor :  107\n",
      "arrest :  103\n",
      "tencent :  103\n",
      "woman :  101\n"
     ]
    }
   ],
   "source": [
    "import collections\n",
    "import gensim\n",
    "import pandas as pd\n",
    "import matplotlib.pyplot as plt\n",
    "from gensim.parsing.preprocessing import STOPWORDS\n",
    "%matplotlib inline\n",
    "\n",
    "a= ' '.join(list(processed_docs_t1))\n",
    "# Stopwords\n",
    "# Instantiate a dictionary, and for every word in the file, \n",
    "# Add to the dictionary if it doesn't exist. If it does, increase the count.\n",
    "wordcount = {}\n",
    "# To eliminate duplicates, remember to split by punctuation, and use case demiliters.\n",
    "for word in a.lower().split():\n",
    "        if word not in wordcount:\n",
    "            wordcount[word] = 1\n",
    "        else:\n",
    "            wordcount[word] += 1\n",
    "# Print most common word\n",
    "n_print = int(input(\"How many most common words to print: \"))\n",
    "print(\"\\nOK. The {} most common words are as follows\\n\".format(n_print))\n",
    "word_counter = collections.Counter(wordcount)\n",
    "\n",
    "for word, count in word_counter.most_common(n_print):\n",
    "    print(word, \": \", count)\n",
    "# Close the file\n",
    "# Create a data frame of the most common words \n",
    "# Draw a bar chart\n",
    "lst = word_counter.most_common(n_print)\n",
    "df = pd.DataFrame(lst, columns = ['Word', 'Count'])\n",
    "#df.plot.bar(x='Word',y='Count')"
   ]
  },
  {
   "cell_type": "code",
   "execution_count": 44,
   "metadata": {
    "collapsed": true
   },
   "outputs": [
    {
     "name": "stdout",
     "output_type": "stream",
     "text": [
      "How many most common words to print: 100\n",
      "\n",
      "OK. The 100 most common words are as follows\n",
      "\n",
      "rumor :  4992\n",
      "rumour :  1430\n",
      "polic :  729\n",
      "year :  641\n",
      "offici :  453\n",
      "refut :  430\n",
      "prison :  379\n",
      "break :  367\n",
      "daughter :  366\n",
      "news :  363\n",
      "tianyi :  354\n",
      "truth :  347\n",
      "wang :  344\n",
      "drink :  340\n",
      "releas :  337\n",
      "zhang :  337\n",
      "fake :  336\n",
      "fals :  336\n",
      "netizen :  328\n",
      "peopl :  311\n",
      "huateng :  305\n",
      "child :  299\n",
      "say :  292\n",
      "studio :  287\n",
      "believ :  276\n",
      "friend :  267\n",
      "cancer :  264\n",
      "children :  256\n",
      "spread :  249\n",
      "traffic :  242\n",
      "respons :  241\n",
      "come :  240\n",
      "drive :  235\n",
      "true :  234\n",
      "card :  226\n",
      "beij :  222\n",
      "public :  219\n",
      "time :  216\n",
      "disinform :  212\n",
      "test :  212\n",
      "circl :  207\n",
      "take :  198\n",
      "statement :  197\n",
      "drug :  195\n",
      "dispel :  194\n",
      "food :  183\n",
      "nation :  179\n",
      "internet :  176\n",
      "caus :  176\n",
      "tell :  172\n",
      "network :  171\n",
      "respond :  168\n",
      "coffe :  166\n",
      "issu :  165\n",
      "plastic :  165\n",
      "april :  160\n",
      "deni :  158\n",
      "earli :  157\n",
      "sentenc :  156\n",
      "carcinogen :  155\n",
      "report :  155\n",
      "citi :  154\n",
      "divorc :  151\n",
      "ahead :  151\n",
      "properti :  145\n",
      "yuan :  144\n",
      "parent :  144\n",
      "student :  139\n",
      "get :  139\n",
      "pure :  138\n",
      "exam :  135\n",
      "arrest :  131\n",
      "girl :  130\n",
      "kill :  129\n",
      "frog :  129\n",
      "yang :  128\n",
      "poison :  126\n",
      "tencent :  123\n",
      "disclos :  123\n",
      "chengdu :  123\n",
      "regul :  122\n",
      "video :  120\n",
      "discourag :  120\n",
      "sweet :  119\n",
      "million :  119\n",
      "go :  118\n",
      "stop :  116\n",
      "inform :  114\n",
      "school :  113\n",
      "serv :  112\n",
      "dismiss :  111\n",
      "marriag :  111\n",
      "fool :  110\n",
      "starbuck :  109\n",
      "china :  108\n",
      "person :  108\n",
      "lead :  107\n",
      "entranc :  107\n",
      "myth :  106\n",
      "chang :  106\n"
     ]
    }
   ],
   "source": [
    "import collections\n",
    "import gensim\n",
    "import pandas as pd\n",
    "import matplotlib.pyplot as plt\n",
    "from gensim.parsing.preprocessing import STOPWORDS\n",
    "%matplotlib inline\n",
    "\n",
    "a= ' '.join(list(processed_docs_t2))\n",
    "# Stopwords\n",
    "# Instantiate a dictionary, and for every word in the file, \n",
    "# Add to the dictionary if it doesn't exist. If it does, increase the count.\n",
    "wordcount = {}\n",
    "# To eliminate duplicates, remember to split by punctuation, and use case demiliters.\n",
    "for word in a.lower().split():\n",
    "        if word not in wordcount:\n",
    "            wordcount[word] = 1\n",
    "        else:\n",
    "            wordcount[word] += 1\n",
    "# Print most common word\n",
    "n_print = int(input(\"How many most common words to print: \"))\n",
    "print(\"\\nOK. The {} most common words are as follows\\n\".format(n_print))\n",
    "word_counter = collections.Counter(wordcount)\n",
    "for word, count in word_counter.most_common(n_print):\n",
    "    print(word, \": \", count)\n",
    "# Close the file\n",
    "# Create a data frame of the most common words \n",
    "# Draw a bar chart\n",
    "lst = word_counter.most_common(n_print)\n",
    "df = pd.DataFrame(lst, columns = ['Word', 'Count'])\n",
    "#df.plot.bar(x='Word',y='Count')"
   ]
  },
  {
   "cell_type": "code",
   "execution_count": 38,
   "metadata": {},
   "outputs": [],
   "source": [
    "most_common_words_t1 = word_counter.most_common(n_print)\n",
    "for i in range(len(most_common_words_t1)):\n",
    "    most_common_words_t1[i] = most_common_words_t1[i][0]"
   ]
  },
  {
   "cell_type": "code",
   "execution_count": 45,
   "metadata": {},
   "outputs": [],
   "source": [
    "most_common_words_t2 = word_counter.most_common(n_print)\n",
    "for i in range(len(most_common_words_t2)):\n",
    "    most_common_words_t2[i] = most_common_words_t2[i][0]"
   ]
  },
  {
   "cell_type": "code",
   "execution_count": 66,
   "metadata": {},
   "outputs": [],
   "source": [
    "mlist = np.setdiff1d(most_common_words_t2,most_common_words_t1)\n",
    "\n"
   ]
  },
  {
   "cell_type": "code",
   "execution_count": 69,
   "metadata": {},
   "outputs": [
    {
     "data": {
      "text/plain": [
       "array(['beij', 'believ', 'chengdu', 'circl', 'deni', 'disclos',\n",
       "       'discourag', 'disinform', 'dismiss', 'dispel', 'entranc', 'exam',\n",
       "       'fake', 'fals', 'fool', 'go', 'inform', 'internet', 'issu', 'lead',\n",
       "       'myth', 'network', 'news', 'offici', 'prison', 'pure', 'refut',\n",
       "       'report', 'respond', 'rumour', 'sentenc', 'serv', 'spread',\n",
       "       'statement', 'stop', 'studio', 'sweet', 'tell', 'truth', 'video'],\n",
       "      dtype='<U10')"
      ]
     },
     "execution_count": 69,
     "metadata": {},
     "output_type": "execute_result"
    }
   ],
   "source": [
    "mlist"
   ]
  },
  {
   "cell_type": "code",
   "execution_count": 28,
   "metadata": {
    "collapsed": true
   },
   "outputs": [
    {
     "name": "stdout",
     "output_type": "stream",
     "text": [
      "How many most common words to print: 20\n",
      "\n",
      "OK. The 20 most common words are as follows\n",
      "\n",
      "rumor :  2447\n",
      "rumors :  2410\n",
      "# :  1335\n",
      "rumour :  1052\n",
      "= :  1026\n",
      "police :  728\n",
      "li :  592\n",
      "| :  556\n",
      "ma :  403\n",
      "years :  395\n",
      "new :  373\n",
      "it's :  370\n",
      "don't :  364\n",
      "news :  360\n",
      "prison :  344\n",
      "official :  340\n",
      "truth :  339\n",
      "zhang :  334\n",
      "wang :  332\n",
      "fake :  327\n"
     ]
    },
    {
     "data": {
      "text/plain": [
       "<matplotlib.axes._subplots.AxesSubplot at 0x11b177a90>"
      ]
     },
     "execution_count": 28,
     "metadata": {},
     "output_type": "execute_result"
    },
    {
     "data": {
      "image/png": "[encoded data removed]",
      "text/plain": [
       "<matplotlib.figure.Figure at 0x1a293e2080>"
      ]
     },
     "metadata": {},
     "output_type": "display_data"
    }
   ],
   "source": [
    "import collections\n",
    "import gensim\n",
    "import pandas as pd\n",
    "import matplotlib.pyplot as plt\n",
    "from gensim.parsing.preprocessing import STOPWORDS\n",
    "%matplotlib inline\n",
    "\n",
    "a= ' '.join(dis_text_list_t2)\n",
    "# Stopwords\n",
    "# Instantiate a dictionary, and for every word in the file, \n",
    "# Add to the dictionary if it doesn't exist. If it does, increase the count.\n",
    "wordcount = {}\n",
    "# To eliminate duplicates, remember to split by punctuation, and use case demiliters.\n",
    "for word in a.lower().split():\n",
    "    word = word.replace(\".\",\"\")\n",
    "    word = word.replace(\",\",\"\")\n",
    "    word = word.replace(\":\",\"\")\n",
    "    word = word.replace(\"\\\"\",\"\")\n",
    "    word = word.replace(\"!\",\"\")\n",
    "    word = word.replace(\"â€œ\",\"\")\n",
    "    word = word.replace(\"â€˜\",\"\")\n",
    "    word = word.replace(\"*\",\"\")\n",
    "    if word not in gensim.parsing.preprocessing.STOPWORDS:\n",
    "        if word not in wordcount:\n",
    "            wordcount[word] = 1\n",
    "        else:\n",
    "            wordcount[word] += 1\n",
    "# Print most common word\n",
    "n_print = int(input(\"How many most common words to print: \"))\n",
    "print(\"\\nOK. The {} most common words are as follows\\n\".format(n_print))\n",
    "word_counter = collections.Counter(wordcount)\n",
    "for word, count in word_counter.most_common(n_print):\n",
    "    print(word, \": \", count)\n",
    "# Close the file\n",
    "# Create a data frame of the most common words \n",
    "# Draw a bar chart\n",
    "lst = word_counter.most_common(n_print)\n",
    "df = pd.DataFrame(lst, columns = ['Word', 'Count'])\n",
    "df.plot.bar(x='Word',y='Count')"
   ]
  }
 ],
 "metadata": {
  "kernelspec": {
   "display_name": "Python 3",
   "language": "python",
   "name": "python3"
  },
  "language_info": {
   "codemirror_mode": {
    "name": "ipython",
    "version": 3
   },
   "file_extension": ".py",
   "mimetype": "text/x-python",
   "name": "python",
   "nbconvert_exporter": "python",
   "pygments_lexer": "ipython3",
   "version": "3.6.6"
  }
 },
 "nbformat": 4,
 "nbformat_minor": 2
}
